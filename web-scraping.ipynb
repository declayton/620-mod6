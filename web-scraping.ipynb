{
 "cells": [
  {
   "cell_type": "markdown",
   "metadata": {},
   "source": [
    "# Deanna Clayton\n",
    "## Module 6 Assignment\n",
    "https://github.com/declayton/620-mod6"
   ]
  },
  {
   "cell_type": "markdown",
   "metadata": {},
   "source": [
    "# Web Mining and Applied NLP (44-620)\n",
    "\n",
    "## Web Scraping and NLP with Requests, BeautifulSoup, and spaCy\n",
    "\n",
    "### Student Name: Deanna Clayton\n",
    "\n",
    "Perform the tasks described in the Markdown cells below.  When you have completed the assignment make sure your code cells have all been run (and have output beneath them) and ensure you have committed and pushed ALL of your changes to your assignment repository.\n",
    "\n",
    "Every question that requires you to write code will have a code cell underneath it; you may either write your entire solution in that cell or write it in a python file (`.py`), then import and run the appropriate code to answer the question."
   ]
  },
  {
   "cell_type": "markdown",
   "metadata": {},
   "source": [
    "1. Write code that extracts the article html from https://web.archive.org/web/20210327165005/https://hackaday.com/2021/03/22/how-laser-headlights-work/ and dumps it to a .pkl (or other appropriate file)"
   ]
  },
  {
   "cell_type": "code",
   "execution_count": 1,
   "metadata": {},
   "outputs": [],
   "source": [
    "import requests  # import needed modules\n",
    "import pickle\n",
    "\n",
    "article = requests.get('https://web.archive.org/web/20210327165005/https://hackaday.com/2021/03/22/how-laser-headlights-work/')\n",
    "article_html = article.text                # extract the html from an article\n",
    "\n",
    "with open('620-mod6-assignment.pkl', 'wb') as f:\n",
    "    pickle.dump(article.text, f)                   # dump text into pickle file"
   ]
  },
  {
   "cell_type": "markdown",
   "metadata": {},
   "source": [
    "2. Read in your article's html source from the file you created in question 1 and print it's text (use `.get_text()`)"
   ]
  },
  {
   "cell_type": "code",
   "execution_count": 2,
   "metadata": {},
   "outputs": [
    {
     "name": "stdout",
     "output_type": "stream",
     "text": [
      "\n",
      "\n",
      "How Laser Headlights Work\n",
      "\n",
      "\n",
      "                130 Comments            \n",
      "\n",
      "by:\n",
      "Lewin Day\n",
      "\n",
      "\n",
      "\n",
      "March 22, 2021\n",
      "\n",
      "\n",
      "\n",
      "\n",
      "\n",
      "\n",
      "\n",
      "\n",
      "When we think about the onward march of automotive technology, headlights aren’t usually the first thing that come to mind. Engines, fuel efficiency, and the switch to electric power are all more front of mind. However, that doesn’t mean there aren’t thousands of engineers around the world working to improve the state of the art in automotive lighting day in, day out.\n",
      "Sealed beam headlights gave way to more modern designs once regulations loosened up, while bulbs moved from simple halogens to xenon HIDs and, more recently, LEDs. Now, a new technology is on the scene, with lasers!\n",
      "\n",
      "Laser Headlights?!\n",
      "BWM’s prototype laser headlight assemblies undergoing testing.\n",
      "The first image brought to mind by the phrase “laser headlights” is that of laser beams firing out the front of an automobile. Obviously, coherent beams of monochromatic light would make for poor illumination outside of a very specific spot quite some distance away. Thankfully for our eyes, laser headlights don’t work in this way at all.\n",
      "Instead, laser headlights consist of one or more solid state laser diodes mounted inside the headlight. These blue lasers are fired at a yellow phosphor, similar to that used in white LEDs. This produces a powerful, vibrant white light that can then be bounced off reflectors and out of the headlights towards the road. Laser headlights built in this way have several benefits. They’re more energy efficient than LEDs that put out the same amount of light, while also being more space efficient, too.\n",
      "BWM’s futuristic i8 was one of the first vehicles to ship with laser headlight technology.\n",
      "Laser headlights are still a nascent technology, thus far only appearing in a few BMW, Audi, and other select vehicles. BMW’s technology was developed in partnership with lighting experts OSRAM. In practice, a regular LED low-beam lamp is used, with the laser used to create an incredibly bright and focused spot, used for high-beams. This can provide illumination out to 600 meters ahead of the vehicle, double that of conventional LED high beams. The lights use indium gallium nitride diode lasers that were originally used in projectors, with power levels above 1 watt. One of the challenges in implementing such technology in an automotive environment is the need for it to operate at temperature extremes. While research lasers and laser pointers may primarily be used at typical room temperatures, automotive headlights must be able to withstand everything from 40 degrees below zero up to 50 degrees C. Thankfully, the laser’s high efficiency means it doesn’t have huge heat output of its own to further complicate things. Other engineering challenges involve tailoring the optics package for the rough-and-tumble, high vibration environment found in the automotive application. It’s also important to ensure, as with any such device, that the end user can’t be exposed to harmful laser radiation in the event of accident or malfunction.\n",
      "Tearing Down the Laser Headlight\n",
      "A marketing image showing the construction of an aftermarket LED/laser headlight. We’d take the laser power with a grain of salt — it’s difficult to imagine a 10 W laser shining directly on some small LEDs without melting a hole through the board in short order.\n",
      "An aftermarket has sprung up too, with delightfully innovative designs. Combined laser/LED headlights are readily available on Alibaba, designed as a drop in replacement for projector lamps on existing vehicles. These often use an LED low-beam, and a combined LED/laser high beam, where the laser diode shoots directly at the LED phosphor to excite it further, rather than using its own. These units often also come with fan cooling to keep the laser and LEDs below their maximum operational temperature. Such developments are exciting, though it’s important to be wary of the performance of unknown aftermarket headlights. Many aftermarket LED headlight “upgrades” fail to pass muster when it comes to real-world performance, and there’s no reason to believe hybrid LED/laser designs will be any different. We’d love to pass a selection of these parts through a full IIHS test protocol, but that’s sadly beyond the scope (and budget!) of this article.\n",
      "However, [mikeselectricstuff] has happened to lay his hands on both the BMW and aftermarket parts, tearing them all down in his workshop to see what makes them tick. The differences are multitude when laid bare on the bench. The AliExpress part is relatively simple, wired up no differently from a regular headlight. Interestingly, however, the laser high-beam circuit runs all the time in these parts. To prevent blinding other road users, a shutter is kept in place to block the light, which is moved out of the way with a solenoid when the driver turns on the high beam switch.\n",
      "Where the aftermarket part is a little out of left field, the BMW design is another thing entirely. The cutting-edge headlights are hooked up with multiple connectors and over 30 conductors, with much of the driver electronics living in an external controller. Much of this is to drive the various LEDs and stepper motors for slewing the headlights when steering. However, the laser assembly brings its own complexities. Twin light sensors are built inside to monitor the laser beam, and a special metal blocking arm sits directly in front of the diode, presumably to stop the laser light leaving the headlight in the event the phosphor coating burns through. It’s truly wild to get a look inside a modern luxury car’s headlight and see just how far we’ve come from the old days of simple sealed beams.\n",
      "Cost Versus Performance\n",
      "Despite the efficiency gains available, the technology remains expensive. Powerful laser diodes don’t come cheap, after all. However, as the technology trickles down to lower-end models, it’s likely that we could see economies of scale change that for the better. Indeed, if national authorities begin to demand higher performance headlights as standard, we could see laser headlights become the norm, rather than an expensive luxury. The technology could naturally be applied to home and commercial lighting, too — though we suspect the potential gains are limited enough that LED lighting will remain the norm for some time to come.\n",
      "The high light output of laser headlights in a compact package allows engineers greater freedom when designing the front-end of a car.\n",
      "As it currently stands, much of the appeal of the new technology is about the packaging benefits, which allow automotive designers greater freedom around the headlight area. Such concerns are less of a factor when it comes to light fittings in the home or office, or indeed, on lower-end automobiles. Regardless, it’s an exciting new application for lasers and one we’ll be sure to see more of in the future.\n",
      " \n",
      "\n",
      "\n",
      "\n",
      "\n",
      " \n",
      "\n",
      "\n",
      "\n",
      "\n",
      "\n",
      "\n",
      "\n",
      "\n",
      "\n",
      "\n",
      "\n",
      "\n",
      "\n",
      "\n",
      "\n",
      "\n",
      "\n",
      "\n",
      "\n",
      "Posted in car hacks, Engineering, Featured, Laser Hacks, SliderTagged laser, laser headlight, laser headlights, light \n",
      "\n"
     ]
    }
   ],
   "source": [
    "from bs4 import BeautifulSoup             # import needed module\n",
    "\n",
    "with open('620-mod6-assignment.pkl', 'rb') as f:\n",
    "    article_html = pickle.load(f)                   # open pickle file\n",
    "\n",
    "parser = 'html.parser'             # parse the text\n",
    "soup = BeautifulSoup(article_html, parser)\n",
    "\n",
    "article_element = soup.find('article')       # print the article text\n",
    "print(article_element.get_text())"
   ]
  },
  {
   "cell_type": "markdown",
   "metadata": {},
   "source": [
    "3. Load the article text into a trained `spaCy` pipeline, and determine the 5 most frequent tokens (converted to lower case).  Print the common tokens with an appropriate label.  Additionally, print the tokens their frequencies (with appropriate labels). Make sure to remove things we don't care about (punctuation, stopwords, whitespace)."
   ]
  },
  {
   "cell_type": "code",
   "execution_count": 3,
   "metadata": {},
   "outputs": [
    {
     "name": "stdout",
     "output_type": "stream",
     "text": [
      "The five most common tokens and their frequencies are: [('laser', 29), ('headlights', 17), ('technology', 10), ('headlight', 10), ('LED', 10)]\n"
     ]
    }
   ],
   "source": [
    "import spacy                    # import needed modules\n",
    "from spacytextblob.spacytextblob import SpacyTextBlob\n",
    "from collections import Counter\n",
    "\n",
    "nlp = spacy.load('en_core_web_sm')              # load text into spaCy pipeline\n",
    "nlp.add_pipe('spacytextblob')\n",
    "document = nlp(article_element.get_text())\n",
    "\n",
    "def wanted_tokens(token):                     # function to get desired tokens\n",
    "    return not (token.is_space or token.is_punct or token.is_stop)\n",
    "\n",
    "interesting_tokens = [token for token in document if wanted_tokens(token)]     # get list of tokens, count token frequency\n",
    "token_freq = Counter(map(str,interesting_tokens))\n",
    "print('The five most common tokens and their frequencies are:', token_freq.most_common(5))    # print five most common tokens and their frequencies"
   ]
  },
  {
   "cell_type": "markdown",
   "metadata": {},
   "source": [
    "4. Load the article text into a trained `spaCy` pipeline, and determine the 5 most frequent lemmas (converted to lower case).  Print the common lemmas with an appropriate label.  Additionally, print the lemmas with their frequencies (with appropriate labels). Make sure to remove things we don't care about (punctuation, stopwords, whitespace)."
   ]
  },
  {
   "cell_type": "code",
   "execution_count": 4,
   "metadata": {},
   "outputs": [
    {
     "name": "stdout",
     "output_type": "stream",
     "text": [
      "The five most common lemmas and their frequencies are: [('laser', 40), ('headlight', 28), ('beam', 12), ('led', 11), ('technology', 10)]\n"
     ]
    }
   ],
   "source": [
    "import spacy                                         # import needed modules\n",
    "from spacytextblob.spacytextblob import SpacyTextBlob\n",
    "from collections import Counter\n",
    "\n",
    "nlp = spacy.load('en_core_web_sm')          # load text into spaCy pipeline\n",
    "nlp.add_pipe('spacytextblob')  \n",
    "document2 = nlp(article_element.get_text())\n",
    "\n",
    "interesting_lemmas = [token.lemma_.lower() for token in document2 if wanted_tokens(token)] # get list of lemmas, count token frequency\n",
    "lemma_freq = Counter(interesting_lemmas)\n",
    "print('The five most common lemmas and their frequencies are:', lemma_freq.most_common(5))   # print five most common lemmas and their frequencies"
   ]
  },
  {
   "cell_type": "markdown",
   "metadata": {},
   "source": [
    "5. Define the following methods:\n",
    "    * `score_sentence_by_token(sentence, interesting_token)` that takes a sentence and a list of interesting token and returns the number of times that any of the interesting words appear in the sentence divided by the number of words in the sentence\n",
    "    * `score_sentence_by_lemma(sentence, interesting_lemmas)` that takes a sentence and a list of interesting lemmas and returns the number of times that any of the interesting lemmas appear in the sentence divided by the number of words in the sentence\n",
    "    \n",
    "You may find some of the code from the in class notes useful; feel free to use methods (rewrite them in this cell as well).  Test them by showing the score of the first sentence in your article using the frequent tokens and frequent lemmas identified in question 3."
   ]
  },
  {
   "cell_type": "code",
   "execution_count": 5,
   "metadata": {},
   "outputs": [
    {
     "name": "stdout",
     "output_type": "stream",
     "text": [
      "0.5\n",
      "0.5\n"
     ]
    }
   ],
   "source": [
    "sentences = list(document.sents)\n",
    "interesting_tokens = [token for token in document if wanted_tokens(token)]\n",
    "interesting_lemmas = [token.lemma_.lower() for token in document if wanted_tokens(token)]\n",
    "\n",
    "def score_sentence_by_token(sentence, interesting_token):         # token method defined\n",
    "    count = 0\n",
    "    count_token = 0\n",
    "    for token in sentence:\n",
    "        count += 1\n",
    "        if token in interesting_token:\n",
    "            count_token += 1\n",
    "    sent_str = str(sentence).replace('\\n','').replace('  ',' ')\n",
    "    return(count_token / count)\n",
    "\n",
    "def score_sentence_by_lemma(sentence, interesting_lemma):       # lemma method defined\n",
    "    count = 0\n",
    "    count_lemma = 0\n",
    "    for token in sentence:\n",
    "        count += 1\n",
    "        if token.lemma_.lower() in interesting_lemma:\n",
    "            count_lemma += 1\n",
    "    sent_str = str(sentence).replace('\\n','').replace('  ',' ')\n",
    "    return(count_lemma / count)\n",
    "    \n",
    "# Examples\n",
    "print(score_sentence_by_token(sentences[0], interesting_tokens))\n",
    "print(score_sentence_by_lemma(sentences[0], interesting_lemmas))"
   ]
  },
  {
   "cell_type": "markdown",
   "metadata": {},
   "source": [
    "6. Make a list containing the scores (using tokens) of every sentence in the article, and plot a histogram with appropriate titles and axis labels of the scores. From your histogram, what seems to be the most common range of scores (put the answer in a comment after your code)?"
   ]
  },
  {
   "cell_type": "code",
   "execution_count": 6,
   "metadata": {},
   "outputs": [
    {
     "name": "stdout",
     "output_type": "stream",
     "text": [
      "[0.5, 0.43478260869565216, 0.3888888888888889, 0.36363636363636365, 0.5666666666666667, 0.2857142857142857, 0.4, 0.7, 0.38461538461538464, 0.5217391304347826, 0.35294117647058826, 0.6111111111111112, 0.4444444444444444, 0.375, 0.5, 0.23076923076923078, 0.4444444444444444, 0.4166666666666667, 0.5833333333333334, 0.4375, 0.5238095238095238, 0.5909090909090909, 0.391304347826087, 0.5357142857142857, 0.4642857142857143, 0.56, 0.35294117647058826, 0.55, 0.46153846153846156, 0.4166666666666667, 0.5833333333333334, 0.41025641025641024, 0.45, 0.4, 0.4864864864864865, 0.3235294117647059, 0.3333333333333333, 0.45454545454545453, 0.4375, 0.4444444444444444, 0.4358974358974359, 0.4, 0.4642857142857143, 0.3684210526315789, 0.4, 0.5681818181818182, 0.45454545454545453, 0.6666666666666666, 0.45454545454545453, 0.3448275862068966, 0.4482758620689655, 0.43243243243243246, 0.5384615384615384, 0.4666666666666667, 0.35714285714285715, 0.28, 0.6086956521739131]\n"
     ]
    },
    {
     "data": {
      "image/png": "[encoded data removed]",
      "text/plain": [
       "<Figure size 640x480 with 1 Axes>"
      ]
     },
     "metadata": {},
     "output_type": "display_data"
    }
   ],
   "source": [
    "sentences = list(document.sents)\n",
    "interesting_tokens = [token for token in document if wanted_tokens(token)]\n",
    "\n",
    "list_token = []\n",
    "for sentence in sentences:        # list of token scores\n",
    "    list_token.append(score_sentence_by_token(sentence, interesting_tokens))\n",
    "    \n",
    "print(list_token)\n",
    "\n",
    "import matplotlib.pyplot as plt\n",
    "\n",
    "plt.hist(list_token)            # create histogram\n",
    "plt.title(\"Frequency of Sentence Scores\")\n",
    "plt.xlabel('Sentence Scores')\n",
    "plt.ylabel('Frequency')\n",
    "plt.show() \n",
    "\n",
    "# The most common range of token scores seems to be the 0.35 to 0.45 range, with the highest occuring around 0.45 with a frequency around 16."
   ]
  },
  {
   "cell_type": "markdown",
   "metadata": {},
   "source": [
    "7. Make a list containing the scores (using lemmas) of every sentence in the article, and plot a histogram with appropriate titles and axis labels of the scores.  From your histogram, what seems to be the most common range of scores (put the answer in a comment after your code)?"
   ]
  },
  {
   "cell_type": "code",
   "execution_count": 7,
   "metadata": {},
   "outputs": [
    {
     "name": "stdout",
     "output_type": "stream",
     "text": [
      "[0.5, 0.43478260869565216, 0.3888888888888889, 0.36363636363636365, 0.5666666666666667, 0.2857142857142857, 0.4, 0.7, 0.38461538461538464, 0.5652173913043478, 0.35294117647058826, 0.6111111111111112, 0.5, 0.375, 0.5, 0.23076923076923078, 0.4444444444444444, 0.4166666666666667, 0.5833333333333334, 0.53125, 0.5238095238095238, 0.6363636363636364, 0.391304347826087, 0.5714285714285714, 0.5, 0.56, 0.35294117647058826, 0.55, 0.46153846153846156, 0.4166666666666667, 0.5833333333333334, 0.46153846153846156, 0.5, 0.4, 0.4864864864864865, 0.3235294117647059, 0.3333333333333333, 0.45454545454545453, 0.5, 0.4444444444444444, 0.4358974358974359, 0.45, 0.4642857142857143, 0.3684210526315789, 0.4, 0.5681818181818182, 0.45454545454545453, 0.6666666666666666, 0.45454545454545453, 0.3448275862068966, 0.4482758620689655, 0.43243243243243246, 0.5384615384615384, 0.4666666666666667, 0.35714285714285715, 0.28, 0.6086956521739131]\n"
     ]
    },
    {
     "data": {
      "image/png": "[encoded data removed]",
      "text/plain": [
       "<Figure size 640x480 with 1 Axes>"
      ]
     },
     "metadata": {},
     "output_type": "display_data"
    }
   ],
   "source": [
    "sentences = list(document.sents)\n",
    "interesting_lemmas = [token.lemma_.lower() for token in document if wanted_tokens(token)]\n",
    "\n",
    "list_lemma = []\n",
    "for sentence in sentences:        # list of lemma scores\n",
    "    list_lemma.append(score_sentence_by_lemma(sentence, interesting_lemmas))\n",
    "    \n",
    "print(list_lemma)\n",
    "\n",
    "import matplotlib.pyplot as plt\n",
    "\n",
    "plt.hist(list_lemma)          # create histogram\n",
    "plt.title(\"Frequency of Sentence Scores\")\n",
    "plt.xlabel('Sentence Scores')\n",
    "plt.ylabel('Frequency')\n",
    "plt.show() \n",
    "\n",
    "# The most common range of lemma scores seems to be the 0.4 to 0.5 range, with the highest occuring around 0.45 with a frequency around 12."
   ]
  },
  {
   "cell_type": "markdown",
   "metadata": {},
   "source": [
    "8. Which tokens and lexems would be ommitted from the lists generated in questions 3 and 4 if we only wanted to consider nouns as interesting words?  How might we change the code to only consider nouns? Put your answer in this Markdown cell (you can edit it by double clicking it).\n",
    "\n",
    "The tokens and lexems to be ommitted would be any of those that are not nouns, such as verbs. We could change the code by doing the following:\n",
    "\n",
    "def noun_tokens(token):\n",
    "    \n",
    "    return (token.tag_ == 'NN')\n",
    "    \n",
    "or by adding to the original definition:\n",
    "\n",
    "def wanted_tokens(token):\n",
    "    \n",
    "    return not (token.is_space or token.is_punct or token.is_stop or token.tag_ != 'NN')"
   ]
  }
 ],
 "metadata": {
  "kernelspec": {
   "display_name": "Python 3 (ipykernel)",
   "language": "python",
   "name": "python3"
  },
  "language_info": {
   "codemirror_mode": {
    "name": "ipython",
    "version": 3
   },
   "file_extension": ".py",
   "mimetype": "text/x-python",
   "name": "python",
   "nbconvert_exporter": "python",
   "pygments_lexer": "ipython3",
   "version": "3.9.12"
  }
 },
 "nbformat": 4,
 "nbformat_minor": 4
}
